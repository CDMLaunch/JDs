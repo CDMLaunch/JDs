{
 "cells": [
  {
   "cell_type": "code",
   "execution_count": 20,
   "metadata": {},
   "outputs": [],
   "source": [
    "import pandas as pd \n",
    "import numpy as np \n",
    "\n",
    "import spacy \n",
    "from spacy.matcher import PhraseMatcher\n",
    "# import plac\n",
    "# from pathlib import Path\n",
    "import random\n",
    "nlp = spacy.load('en')"
   ]
  },
  {
   "cell_type": "code",
   "execution_count": 8,
   "metadata": {},
   "outputs": [],
   "source": [
    "df = pd.read_csv('description_lower.csv')"
   ]
  },
  {
   "cell_type": "code",
   "execution_count": 13,
   "metadata": {},
   "outputs": [],
   "source": [
    "doc = nlp(df.iloc[0, 1])\n",
    "clean_tokens = [word for word in doc if not word.is_stop and word.pos_ != 'PUNCT']\n",
    "raw = [(token.lemma_, token.pos_) for token in clean_tokens]"
   ]
  },
  {
   "cell_type": "code",
   "execution_count": 14,
   "metadata": {},
   "outputs": [
    {
     "name": "stdout",
     "output_type": "stream",
     "text": [
      "[('position', 'NOUN'), ('summary', 'PROPN'), ('business', 'NOUN'), ('analyst', 'NOUN'), ('role', 'NOUN'), ('primary', 'ADJ'), ('architect', 'NOUN'), ('reporting', 'NOUN'), ('dashboard', 'NOUN'), ('solution', 'NOUN'), ('internal', 'ADJ'), ('external', 'ADJ'), ('client', 'NOUN'), ('utilize', 'VERB'), ('esi', 'ADJ'), ('corporate', 'ADJ'), ('standard', 'ADJ'), ('development', 'NOUN'), ('tool', 'NOUN'), ('position', 'NOUN'), ('responsible', 'ADJ'), ('design', 'NOUN'), ('development', 'NOUN'), ('implementation', 'NOUN'), ('analysis', 'NOUN'), ('interpretation', 'NOUN'), ('communication', 'NOUN'), ('business', 'NOUN'), ('information', 'NOUN'), ('base', 'VERB'), ('need', 'NOUN'), ('individual', 'ADJ'), ('client', 'NOUN'), ('ability', 'NOUN'), ('balance', 'VERB'), ('overall', 'ADJ'), ('aesthetic', 'NOUN'), ('robust', 'ADJ'), ('intuitive', 'ADJ'), ('functionality', 'NOUN'), ('critical', 'ADJ'), ('requirement', 'NOUN'), ('success', 'NOUN'), ('position', 'NOUN'), ('essential', 'ADJ'), ('function', 'NOUN'), ('successfully', 'ADV'), ('design', 'VERB'), ('implement', 'VERB'), ('external', 'ADJ'), ('client', 'NOUN'), ('datum', 'NOUN'), ('reporting', 'NOUN'), ('dashboard', 'NOUN'), ('solution', 'NOUN'), ('strong', 'ADJ'), ('focus', 'NOUN'), ('product', 'NOUN'), ('aesthetic', 'NOUN'), ('functionality', 'NOUN'), ('aid', 'NOUN'), ('design', 'NOUN'), ('development', 'NOUN'), ('implementation', 'NOUN'), ('new', 'ADJ'), ('product', 'NOUN'), ('idea', 'NOUN'), ('external', 'ADJ'), ('internal', 'ADJ'), ('client', 'NOUN'), ('maintain', 'VERB'), ('live', 'ADJ'), ('datum', 'NOUN'), ('warehouse', 'NOUN'), ('business', 'NOUN'), ('object', 'VERB'), ('universe', 'NOUN'), ('add', 'VERB'), ('new', 'ADJ'), ('field', 'NOUN'), ('modify', 'VERB'), ('table', 'NOUN'), ('join', 'NOUN'), ('implement', 'VERB'), ('data', 'NOUN'), ('structure', 'NOUN'), ('streamline', 'VERB'), ('report', 'NOUN'), ('extraction', 'NOUN'), ('datum', 'NOUN'), ('analysis', 'NOUN'), ('develop', 'VERB'), ('document', 'VERB'), ('good', 'ADJ'), ('practice', 'NOUN'), ('point', 'NOUN'), ('design', 'NOUN'), ('implementation', 'NOUN'), ('process', 'NOUN'), ('coordinate', 'VERB'), ('interface', 'VERB'), ('account', 'NOUN'), ('management', 'NOUN'), ('implementation', 'NOUN'), ('team', 'NOUN'), ('gather', 'VERB'), ('product', 'NOUN'), ('design', 'NOUN'), ('requirement', 'NOUN'), ('provide', 'VERB'), ('insight', 'NOUN'), ('capability', 'NOUN'), ('solution', 'NOUN'), ('research', 'NOUN'), ('present', 'VERB'), ('new', 'ADJ'), ('software', 'NOUN'), ('technology', 'NOUN'), ('solution', 'NOUN'), ('internal', 'ADJ'), ('developer', 'NOUN'), ('management', 'NOUN'), ('allow', 'VERB'), ('evaluation', 'NOUN'), ('potential', 'ADJ'), ('integration', 'NOUN'), ('new', 'ADJ'), ('development', 'NOUN'), ('tool', 'NOUN'), ('qualification', 'NOUN'), ('bachelor', 'PROPN'), ('degree', 'NOUN'), ('related', 'ADJ'), ('field', 'NOUN'), ('8', 'NUM'), ('11', 'NUM'), ('year', 'NOUN'), ('experience', 'NOUN'), ('2', 'NUM'), ('-', 'SYM'), ('5', 'NUM'), ('year', 'NOUN'), ('relevant', 'ADJ'), ('experience', 'NOUN'), ('bachelor', 'NOUN'), ('degree', 'NOUN'), ('master', 'NOUN'), ('degree', 'NOUN'), ('0', 'NUM'), ('-', 'SYM'), ('3', 'NUM'), ('year', 'NOUN'), ('relevant', 'ADJ'), ('experience', 'NOUN'), ('recent', 'ADJ'), ('experience', 'NOUN'), ('create', 'VERB'), ('business', 'NOUN'), ('object', 'VERB'), ('xi', 'PROPN'), ('report', 'NOUN'), ('design', 'VERB'), ('datum', 'NOUN'), ('visualization', 'NOUN'), ('application', 'NOUN'), ('sap', 'PROPN'), ('xcelsius', 'PROPN'), ('2008', 'NUM'), ('software', 'NOUN'), ('designing', 'NOUN'), ('implement', 'VERB'), ('maintain', 'VERB'), ('datum', 'NOUN'), ('universe', 'NOUN'), ('structure', 'NOUN'), ('business', 'NOUN'), ('object', 'VERB'), ('universe', 'PROPN'), ('designer', 'NOUN'), ('sql', 'PROPN'), ('as400', 'PROPN'), ('adobe', 'PROPN'), ('flex', 'PROPN'), ('flash', 'NOUN'), ('experience', 'NOUN'), ('prefer', 'VERB'), ('creative', 'ADJ'), ('problem', 'NOUN'), ('solver', 'NOUN'), ('fundamental', 'ADJ'), ('commitment', 'NOUN'), ('create', 'VERB'), ('customer', 'NOUN'), ('value', 'NOUN'), ('technical', 'ADJ'), ('innovation', 'NOUN'), ('bachelor', 'PROPN'), ('degree', 'NOUN'), ('related', 'ADJ'), ('field', 'NOUN'), ('8', 'NUM'), ('11', 'NUM'), ('year', 'NOUN'), ('experience', 'NOUN'), ('department', 'NOUN'), ('express', 'ADJ'), ('script', 'NOUN'), ('advance', 'VERB'), ('career', 'NOUN'), ('company', 'NOUN'), ('make', 'VERB'), ('easy', 'ADJ'), ('people', 'NOUN'), ('choose', 'VERB'), ('well', 'ADJ'), ('health', 'NOUN'), ('express', 'PROPN'), ('script', 'NOUN'), ('lead', 'VERB'), ('healthcare', 'NOUN'), ('company', 'NOUN'), ('serve', 'VERB'), ('ten', 'NOUN'), ('million', 'NOUN'), ('consumer', 'NOUN'), ('look', 'VERB'), ('individual', 'NOUN'), ('passionate', 'ADJ'), ('creative', 'ADJ'), ('committed', 'ADJ'), ('create', 'VERB'), ('system', 'NOUN'), ('service', 'NOUN'), ('solution', 'NOUN'), ('promote', 'VERB'), ('well', 'ADJ'), ('health', 'NOUN'), ('outcome', 'NOUN'), ('join', 'VERB'), ('company', 'NOUN'), ('fortune', 'PROPN'), ('magazine', 'NOUN'), ('rank', 'VERB'), ('admired', 'ADJ'), ('company', 'NOUN'), ('pharmacy', 'NOUN'), ('category', 'NOUN'), ('use', 'VERB'), ('intelligence', 'NOUN'), ('creativity', 'NOUN'), ('integrity', 'NOUN'), ('hard', 'ADJ'), ('work', 'NOUN'), ('help', 'VERB'), ('enhance', 'VERB'), ('product', 'NOUN'), ('service', 'NOUN'), ('offer', 'VERB'), ('highly', 'ADV'), ('competitive', 'ADJ'), ('base', 'NOUN'), ('salary', 'NOUN'), ('comprehensive', 'ADJ'), ('benefit', 'NOUN'), ('program', 'NOUN'), ('include', 'VERB'), ('medical', 'ADJ'), ('prescription', 'NOUN'), ('drug', 'NOUN'), ('dental', 'NOUN'), ('vision', 'NOUN'), ('401k', 'NOUN'), ('company', 'NOUN'), ('match', 'NOUN'), ('life', 'NOUN'), ('insurance', 'NOUN'), ('pay', 'VERB'), ('time', 'NOUN'), ('tuition', 'NOUN'), ('assistance', 'NOUN'), ('employee', 'NOUN'), ('stock', 'NOUN'), ('purchase', 'NOUN'), ('plan', 'NOUN'), ('express', 'PROPN'), ('script', 'NOUN'), ('equal', 'ADJ'), ('opportunity', 'NOUN'), ('employer', 'NOUN'), ('/', 'SYM'), ('disability', 'NOUN'), ('/', 'SYM'), ('veteran', 'NOUN')]\n"
     ]
    }
   ],
   "source": [
    "print(raw)"
   ]
  },
  {
   "cell_type": "code",
   "execution_count": 19,
   "metadata": {},
   "outputs": [
    {
     "name": "stdout",
     "output_type": "stream",
     "text": [
      "[('esi', 'ORG'), ('8 to 11 years', 'DATE'), ('2-5 years', 'DATE'), ('0-3 years', 'DATE'), ('sap', 'ORG'), ('2008', 'DATE'), ('sql', 'ORG'), ('as400', 'PRODUCT'), ('adobe flex', 'GPE'), ('bachelor', 'PERSON'), ('8 to 11 years', 'DATE'), ('tens of millions', 'CARDINAL'), ('fortune', 'ORG'), ('401k', 'NORP')]\n"
     ]
    }
   ],
   "source": [
    "ents = [(word.text, word.label_) for word in doc.ents]\n",
    "print(ents)"
   ]
  },
  {
   "cell_type": "code",
   "execution_count": 23,
   "metadata": {},
   "outputs": [],
   "source": [
    "def offseter(lbl, doc, matchitem):\n",
    "    o_one = len(str(doc[0:matchitem[1]]))\n",
    "    subdoc = doc[matchitem[1]:matchiten[2]]\n",
    "    o_two = o_one + len(str(subdoc))\n",
    "    return (o_one, o_two, lbl)"
   ]
  },
  {
   "cell_type": "code",
   "execution_count": null,
   "metadata": {},
   "outputs": [],
   "source": [
    "# setup pipes for training \n",
    "# if 'ner' not in mlp.pipe_names:\n",
    "#     ner = nlp.create_pipe('ner')\n",
    "#     nlp.addZ_pipe(ner)\n",
    "# else:\n",
    "#     ner = nlp.get_pipe('ner')"
   ]
  },
  {
   "cell_type": "code",
   "execution_count": 24,
   "metadata": {},
   "outputs": [],
   "source": [
    "# instead of manually locating the word, phrase matcher will locate the text we want to label \n",
    "# nlp.vocab gives a lookup table that allows you to access lexeme objects and stringstore\n",
    "label1 = 'ciadir'\n",
    "matcher = PhraseMatcher(nlp.vocab)\n",
    "for i in ['Gina Haspel', 'Gina', 'Haspel']:\n",
    "    matcher.add(label1, None, nlp(i))\n",
    "# "
   ]
  },
  {
   "cell_type": "code",
   "execution_count": 26,
   "metadata": {},
   "outputs": [
    {
     "data": {
      "text/plain": [
       "[(12604819515366849836, 0, 1),\n",
       " (12604819515366849836, 0, 2),\n",
       " (12604819515366849836, 1, 2)]"
      ]
     },
     "execution_count": 26,
     "metadata": {},
     "output_type": "execute_result"
    }
   ],
   "source": [
    "one = nlp('Gina Haspel was nominated in 2018')\n",
    "matches = matcher(one)\n",
    "[match for match in matches]\n",
    "# first number is a representation of the label string\n",
    "# 0, 1 is the word position in the document not the string integer position"
   ]
  },
  {
   "cell_type": "code",
   "execution_count": null,
   "metadata": {},
   "outputs": [],
   "source": []
  }
 ],
 "metadata": {
  "kernelspec": {
   "display_name": "Python 3",
   "language": "python",
   "name": "python3"
  },
  "language_info": {
   "codemirror_mode": {
    "name": "ipython",
    "version": 3
   },
   "file_extension": ".py",
   "mimetype": "text/x-python",
   "name": "python",
   "nbconvert_exporter": "python",
   "pygments_lexer": "ipython3",
   "version": "3.8.3"
  }
 },
 "nbformat": 4,
 "nbformat_minor": 2
}
